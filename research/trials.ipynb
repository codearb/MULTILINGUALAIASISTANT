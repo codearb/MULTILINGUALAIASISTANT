{
 "cells": [
  {
   "cell_type": "code",
   "execution_count": 3,
   "metadata": {},
   "outputs": [],
   "source": [
    "import ollama"
   ]
  },
  {
   "cell_type": "code",
   "execution_count": 11,
   "metadata": {},
   "outputs": [],
   "source": [
    "result = ollama.generate(model='llama3.2:latest', prompt='Why is the sky blue?')"
   ]
  },
  {
   "cell_type": "code",
   "execution_count": 13,
   "metadata": {},
   "outputs": [
    {
     "data": {
      "text/plain": [
       "\"The sky appears blue because of a phenomenon called scattering, which occurs when sunlight interacts with the tiny molecules of gases in the Earth's atmosphere. Here's a simplified explanation:\\n\\n1. **Sunlight enters the Earth's atmosphere**: When sunlight enters the atmosphere, it consists of a spectrum of colors, including all the colors of the visible light.\\n2. **Scattering by small particles**: The smaller particles in the atmosphere, such as nitrogen (N2) and oxygen (O2), scatter the shorter (blue) wavelengths of light more than the longer (red) wavelengths. This is known as Rayleigh scattering, named after the British physicist Lord Rayleigh, who first described it.\\n3. **Blue light is scattered**: The blue light is scattered in all directions by the small particles in the atmosphere. This means that the shorter wavelengths of light are dispersed throughout the sky, making it appear more blue.\\n4. **Red light continues straight**: Meanwhile, the longer wavelengths of light (like red and orange) continue to travel in a straight line, reaching our eyes from a more direct path.\\n5. **Our eyes perceive the scattered blue light**: When we look up at the sky, we see mostly the blue light that was scattered by the small particles, giving the sky its characteristic color.\\n\\nIt's worth noting that:\\n\\n* The sky can appear different shades of blue depending on factors like time of day (dusk and dawn), atmospheric conditions (e.g., pollution or dust), and the observer's location.\\n* Scattering is more pronounced in the shorter wavelengths, which is why we see a bluer sky during the daytime when the sun is overhead.\\n\\nNow, next time you gaze up at the sky, remember that it's not just a pretty color – it's the result of complex physics!\""
      ]
     },
     "execution_count": 13,
     "metadata": {},
     "output_type": "execute_result"
    }
   ],
   "source": [
    "result['response']"
   ]
  }
 ],
 "metadata": {
  "kernelspec": {
   "display_name": "Python 3",
   "language": "python",
   "name": "python3"
  },
  "language_info": {
   "codemirror_mode": {
    "name": "ipython",
    "version": 3
   },
   "file_extension": ".py",
   "mimetype": "text/x-python",
   "name": "python",
   "nbconvert_exporter": "python",
   "pygments_lexer": "ipython3",
   "version": "3.10.15"
  }
 },
 "nbformat": 4,
 "nbformat_minor": 2
}
